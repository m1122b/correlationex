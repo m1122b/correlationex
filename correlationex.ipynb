{
 "cells": [
  {
   "cell_type": "code",
   "execution_count": 3,
   "id": "ec6f0633-afd7-4b86-a49f-88b328d93c27",
   "metadata": {},
   "outputs": [],
   "source": [
    "import pandas as pd\n",
    "import matplotlib.pyplot as plt"
   ]
  },
  {
   "cell_type": "code",
   "execution_count": 4,
   "id": "e4155cec-f3cd-4f2c-beab-f56f48c984be",
   "metadata": {},
   "outputs": [],
   "source": [
    "data = [\n",
    "    ('x1', 1.3, 76.84878),\n",
    "    ('x2', 1.95, 81.40732),\n",
    "    ('x3', 2.466, 77.57895),\n",
    "    ('x4', 1.6, 74.16341),\n",
    "    ('x5', 2.952, 68.84907),\n",
    "    ('x6', 1.801, 73.88595),\n",
    "    ('x7', 1.34, 75.26829),\n",
    "    ('x8', 1.34, 76.26098),\n",
    "    ('x9', 1.63, 80.57244),\n",
    "    ('x10', 2.326, 65.46259),\n",
    "    ('x11', 2.436, 67.5482),\n",
    "    ('x12', 6.563, 55.02451),\n",
    "    ('x13', 1.283, 76.2799),\n",
    "    ('x14', 1.43, 82.29024),\n",
    "    ('x15', 1.988, 69.80695),\n",
    "    ('x16', 1.61, 81.40112),\n",
    "    ('x17', 1.921, 82.19756),\n",
    "    ('x18', 2.4, 74.22683),\n",
    "    ('x19', 1.495, 80.12888),\n",
    "    ('x20', 4.705, 45.55095)\n",
    "]"
   ]
  },
  {
   "cell_type": "code",
   "execution_count": 7,
   "id": "c75a6a42-c691-416e-b70a-2c7c06afd8ff",
   "metadata": {},
   "outputs": [
    {
     "data": {
      "text/plain": [
       "[('x1', 1.3, 76.84878),\n",
       " ('x2', 1.95, 81.40732),\n",
       " ('x3', 2.466, 77.57895),\n",
       " ('x4', 1.6, 74.16341),\n",
       " ('x5', 2.952, 68.84907),\n",
       " ('x6', 1.801, 73.88595),\n",
       " ('x7', 1.34, 75.26829),\n",
       " ('x8', 1.34, 76.26098),\n",
       " ('x9', 1.63, 80.57244),\n",
       " ('x10', 2.326, 65.46259),\n",
       " ('x11', 2.436, 67.5482),\n",
       " ('x12', 6.563, 55.02451),\n",
       " ('x13', 1.283, 76.2799),\n",
       " ('x14', 1.43, 82.29024),\n",
       " ('x15', 1.988, 69.80695),\n",
       " ('x16', 1.61, 81.40112),\n",
       " ('x17', 1.921, 82.19756),\n",
       " ('x18', 2.4, 74.22683),\n",
       " ('x19', 1.495, 80.12888),\n",
       " ('x20', 4.705, 45.55095)]"
      ]
     },
     "execution_count": 7,
     "metadata": {},
     "output_type": "execute_result"
    }
   ],
   "source": [
    "data"
   ]
  },
  {
   "cell_type": "code",
   "execution_count": 28,
   "id": "adc6151a-4f52-44fe-a945-2f6ae952fa1f",
   "metadata": {},
   "outputs": [
    {
     "data": {
      "text/html": [
       "<div>\n",
       "<style scoped>\n",
       "    .dataframe tbody tr th:only-of-type {\n",
       "        vertical-align: middle;\n",
       "    }\n",
       "\n",
       "    .dataframe tbody tr th {\n",
       "        vertical-align: top;\n",
       "    }\n",
       "\n",
       "    .dataframe thead th {\n",
       "        text-align: right;\n",
       "    }\n",
       "</style>\n",
       "<table border=\"1\" class=\"dataframe\">\n",
       "  <thead>\n",
       "    <tr style=\"text-align: right;\">\n",
       "      <th></th>\n",
       "      <th>Country</th>\n",
       "      <th>Fertility rate</th>\n",
       "      <th>Life expectancy at birth</th>\n",
       "    </tr>\n",
       "  </thead>\n",
       "  <tbody>\n",
       "    <tr>\n",
       "      <th>0</th>\n",
       "      <td>x1</td>\n",
       "      <td>1.300</td>\n",
       "      <td>76.84878</td>\n",
       "    </tr>\n",
       "    <tr>\n",
       "      <th>1</th>\n",
       "      <td>x2</td>\n",
       "      <td>1.950</td>\n",
       "      <td>81.40732</td>\n",
       "    </tr>\n",
       "    <tr>\n",
       "      <th>2</th>\n",
       "      <td>x3</td>\n",
       "      <td>2.466</td>\n",
       "      <td>77.57895</td>\n",
       "    </tr>\n",
       "    <tr>\n",
       "      <th>3</th>\n",
       "      <td>x4</td>\n",
       "      <td>1.600</td>\n",
       "      <td>74.16341</td>\n",
       "    </tr>\n",
       "    <tr>\n",
       "      <th>4</th>\n",
       "      <td>x5</td>\n",
       "      <td>2.952</td>\n",
       "      <td>68.84907</td>\n",
       "    </tr>\n",
       "    <tr>\n",
       "      <th>5</th>\n",
       "      <td>x6</td>\n",
       "      <td>1.801</td>\n",
       "      <td>73.88595</td>\n",
       "    </tr>\n",
       "    <tr>\n",
       "      <th>6</th>\n",
       "      <td>x7</td>\n",
       "      <td>1.340</td>\n",
       "      <td>75.26829</td>\n",
       "    </tr>\n",
       "    <tr>\n",
       "      <th>7</th>\n",
       "      <td>x8</td>\n",
       "      <td>1.340</td>\n",
       "      <td>76.26098</td>\n",
       "    </tr>\n",
       "    <tr>\n",
       "      <th>8</th>\n",
       "      <td>x9</td>\n",
       "      <td>1.630</td>\n",
       "      <td>80.57244</td>\n",
       "    </tr>\n",
       "    <tr>\n",
       "      <th>9</th>\n",
       "      <td>x10</td>\n",
       "      <td>2.326</td>\n",
       "      <td>65.46259</td>\n",
       "    </tr>\n",
       "    <tr>\n",
       "      <th>10</th>\n",
       "      <td>x11</td>\n",
       "      <td>2.436</td>\n",
       "      <td>67.54820</td>\n",
       "    </tr>\n",
       "    <tr>\n",
       "      <th>11</th>\n",
       "      <td>x12</td>\n",
       "      <td>6.563</td>\n",
       "      <td>55.02451</td>\n",
       "    </tr>\n",
       "    <tr>\n",
       "      <th>12</th>\n",
       "      <td>x13</td>\n",
       "      <td>1.283</td>\n",
       "      <td>76.27990</td>\n",
       "    </tr>\n",
       "    <tr>\n",
       "      <th>13</th>\n",
       "      <td>x14</td>\n",
       "      <td>1.430</td>\n",
       "      <td>82.29024</td>\n",
       "    </tr>\n",
       "    <tr>\n",
       "      <th>14</th>\n",
       "      <td>x15</td>\n",
       "      <td>1.988</td>\n",
       "      <td>69.80695</td>\n",
       "    </tr>\n",
       "    <tr>\n",
       "      <th>15</th>\n",
       "      <td>x16</td>\n",
       "      <td>1.610</td>\n",
       "      <td>81.40112</td>\n",
       "    </tr>\n",
       "    <tr>\n",
       "      <th>16</th>\n",
       "      <td>x17</td>\n",
       "      <td>1.921</td>\n",
       "      <td>82.19756</td>\n",
       "    </tr>\n",
       "    <tr>\n",
       "      <th>17</th>\n",
       "      <td>x18</td>\n",
       "      <td>2.400</td>\n",
       "      <td>74.22683</td>\n",
       "    </tr>\n",
       "    <tr>\n",
       "      <th>18</th>\n",
       "      <td>x19</td>\n",
       "      <td>1.495</td>\n",
       "      <td>80.12888</td>\n",
       "    </tr>\n",
       "    <tr>\n",
       "      <th>19</th>\n",
       "      <td>x20</td>\n",
       "      <td>4.705</td>\n",
       "      <td>45.55095</td>\n",
       "    </tr>\n",
       "  </tbody>\n",
       "</table>\n",
       "</div>"
      ],
      "text/plain": [
       "   Country  Fertility rate  Life expectancy at birth\n",
       "0       x1           1.300                  76.84878\n",
       "1       x2           1.950                  81.40732\n",
       "2       x3           2.466                  77.57895\n",
       "3       x4           1.600                  74.16341\n",
       "4       x5           2.952                  68.84907\n",
       "5       x6           1.801                  73.88595\n",
       "6       x7           1.340                  75.26829\n",
       "7       x8           1.340                  76.26098\n",
       "8       x9           1.630                  80.57244\n",
       "9      x10           2.326                  65.46259\n",
       "10     x11           2.436                  67.54820\n",
       "11     x12           6.563                  55.02451\n",
       "12     x13           1.283                  76.27990\n",
       "13     x14           1.430                  82.29024\n",
       "14     x15           1.988                  69.80695\n",
       "15     x16           1.610                  81.40112\n",
       "16     x17           1.921                  82.19756\n",
       "17     x18           2.400                  74.22683\n",
       "18     x19           1.495                  80.12888\n",
       "19     x20           4.705                  45.55095"
      ]
     },
     "execution_count": 28,
     "metadata": {},
     "output_type": "execute_result"
    }
   ],
   "source": [
    "df = pd.DataFrame(data, columns=[\"Country\", \"Fertility rate\", \"Life expectancy at birth\"])\n",
    "df"
   ]
  },
  {
   "cell_type": "code",
   "execution_count": 29,
   "id": "d33dc374-811a-4feb-afca-6a795c0bec50",
   "metadata": {},
   "outputs": [
    {
     "data": {
      "text/html": [
       "<div>\n",
       "<style scoped>\n",
       "    .dataframe tbody tr th:only-of-type {\n",
       "        vertical-align: middle;\n",
       "    }\n",
       "\n",
       "    .dataframe tbody tr th {\n",
       "        vertical-align: top;\n",
       "    }\n",
       "\n",
       "    .dataframe thead th {\n",
       "        text-align: right;\n",
       "    }\n",
       "</style>\n",
       "<table border=\"1\" class=\"dataframe\">\n",
       "  <thead>\n",
       "    <tr style=\"text-align: right;\">\n",
       "      <th></th>\n",
       "      <th>Fertility rate</th>\n",
       "      <th>Life expectancy at birth</th>\n",
       "    </tr>\n",
       "    <tr>\n",
       "      <th>Country</th>\n",
       "      <th></th>\n",
       "      <th></th>\n",
       "    </tr>\n",
       "  </thead>\n",
       "  <tbody>\n",
       "    <tr>\n",
       "      <th>x1</th>\n",
       "      <td>1.300</td>\n",
       "      <td>76.84878</td>\n",
       "    </tr>\n",
       "    <tr>\n",
       "      <th>x2</th>\n",
       "      <td>1.950</td>\n",
       "      <td>81.40732</td>\n",
       "    </tr>\n",
       "    <tr>\n",
       "      <th>x3</th>\n",
       "      <td>2.466</td>\n",
       "      <td>77.57895</td>\n",
       "    </tr>\n",
       "    <tr>\n",
       "      <th>x4</th>\n",
       "      <td>1.600</td>\n",
       "      <td>74.16341</td>\n",
       "    </tr>\n",
       "    <tr>\n",
       "      <th>x5</th>\n",
       "      <td>2.952</td>\n",
       "      <td>68.84907</td>\n",
       "    </tr>\n",
       "    <tr>\n",
       "      <th>x6</th>\n",
       "      <td>1.801</td>\n",
       "      <td>73.88595</td>\n",
       "    </tr>\n",
       "    <tr>\n",
       "      <th>x7</th>\n",
       "      <td>1.340</td>\n",
       "      <td>75.26829</td>\n",
       "    </tr>\n",
       "    <tr>\n",
       "      <th>x8</th>\n",
       "      <td>1.340</td>\n",
       "      <td>76.26098</td>\n",
       "    </tr>\n",
       "    <tr>\n",
       "      <th>x9</th>\n",
       "      <td>1.630</td>\n",
       "      <td>80.57244</td>\n",
       "    </tr>\n",
       "    <tr>\n",
       "      <th>x10</th>\n",
       "      <td>2.326</td>\n",
       "      <td>65.46259</td>\n",
       "    </tr>\n",
       "    <tr>\n",
       "      <th>x11</th>\n",
       "      <td>2.436</td>\n",
       "      <td>67.54820</td>\n",
       "    </tr>\n",
       "    <tr>\n",
       "      <th>x12</th>\n",
       "      <td>6.563</td>\n",
       "      <td>55.02451</td>\n",
       "    </tr>\n",
       "    <tr>\n",
       "      <th>x13</th>\n",
       "      <td>1.283</td>\n",
       "      <td>76.27990</td>\n",
       "    </tr>\n",
       "    <tr>\n",
       "      <th>x14</th>\n",
       "      <td>1.430</td>\n",
       "      <td>82.29024</td>\n",
       "    </tr>\n",
       "    <tr>\n",
       "      <th>x15</th>\n",
       "      <td>1.988</td>\n",
       "      <td>69.80695</td>\n",
       "    </tr>\n",
       "    <tr>\n",
       "      <th>x16</th>\n",
       "      <td>1.610</td>\n",
       "      <td>81.40112</td>\n",
       "    </tr>\n",
       "    <tr>\n",
       "      <th>x17</th>\n",
       "      <td>1.921</td>\n",
       "      <td>82.19756</td>\n",
       "    </tr>\n",
       "    <tr>\n",
       "      <th>x18</th>\n",
       "      <td>2.400</td>\n",
       "      <td>74.22683</td>\n",
       "    </tr>\n",
       "    <tr>\n",
       "      <th>x19</th>\n",
       "      <td>1.495</td>\n",
       "      <td>80.12888</td>\n",
       "    </tr>\n",
       "    <tr>\n",
       "      <th>x20</th>\n",
       "      <td>4.705</td>\n",
       "      <td>45.55095</td>\n",
       "    </tr>\n",
       "  </tbody>\n",
       "</table>\n",
       "</div>"
      ],
      "text/plain": [
       "         Fertility rate  Life expectancy at birth\n",
       "Country                                          \n",
       "x1                1.300                  76.84878\n",
       "x2                1.950                  81.40732\n",
       "x3                2.466                  77.57895\n",
       "x4                1.600                  74.16341\n",
       "x5                2.952                  68.84907\n",
       "x6                1.801                  73.88595\n",
       "x7                1.340                  75.26829\n",
       "x8                1.340                  76.26098\n",
       "x9                1.630                  80.57244\n",
       "x10               2.326                  65.46259\n",
       "x11               2.436                  67.54820\n",
       "x12               6.563                  55.02451\n",
       "x13               1.283                  76.27990\n",
       "x14               1.430                  82.29024\n",
       "x15               1.988                  69.80695\n",
       "x16               1.610                  81.40112\n",
       "x17               1.921                  82.19756\n",
       "x18               2.400                  74.22683\n",
       "x19               1.495                  80.12888\n",
       "x20               4.705                  45.55095"
      ]
     },
     "execution_count": 29,
     "metadata": {},
     "output_type": "execute_result"
    }
   ],
   "source": [
    "df = df.set_index(\"Country\")\n",
    "df"
   ]
  },
  {
   "cell_type": "code",
   "execution_count": 30,
   "id": "3908a752-febe-47b4-ae7a-4c088b6113ca",
   "metadata": {},
   "outputs": [
    {
     "data": {
      "text/plain": [
       "<AxesSubplot:xlabel='Country'>"
      ]
     },
     "execution_count": 30,
     "metadata": {},
     "output_type": "execute_result"
    },
    {
     "data": {
      "image/png": "[encoded data removed]",
      "text/plain": [
       "<Figure size 432x288 with 1 Axes>"
      ]
     },
     "metadata": {
      "needs_background": "light"
     },
     "output_type": "display_data"
    }
   ],
   "source": [
    "df['Life expectancy at birth'].plot(grid=True)"
   ]
  },
  {
   "cell_type": "code",
   "execution_count": 31,
   "id": "2614c0a2-ff23-41d6-856e-8eb8fe8f9ca4",
   "metadata": {},
   "outputs": [
    {
     "data": {
      "text/plain": [
       "<AxesSubplot:xlabel='Country'>"
      ]
     },
     "execution_count": 31,
     "metadata": {},
     "output_type": "execute_result"
    },
    {
     "data": {
      "image/png": "[encoded data removed]",
      "text/plain": [
       "<Figure size 432x288 with 1 Axes>"
      ]
     },
     "metadata": {
      "needs_background": "light"
     },
     "output_type": "display_data"
    }
   ],
   "source": [
    "df['Fertility rate'].plot(grid=True)"
   ]
  },
  {
   "cell_type": "code",
   "execution_count": 35,
   "id": "0a767b3f-bb7b-481b-ae59-b948204152e8",
   "metadata": {},
   "outputs": [
    {
     "data": {
      "text/plain": [
       "[<matplotlib.lines.Line2D at 0x25c99412560>]"
      ]
     },
     "execution_count": 35,
     "metadata": {},
     "output_type": "execute_result"
    },
    {
     "data": {
      "image/png": "[encoded data removed]",
      "text/plain": [
       "<Figure size 432x288 with 1 Axes>"
      ]
     },
     "metadata": {
      "needs_background": "light"
     },
     "output_type": "display_data"
    }
   ],
   "source": [
    "df = df.sort_values(\"Fertility rate\")\n",
    "plt.plot(df['Fertility rate'], df['Life expectancy at birth'])"
   ]
  },
  {
   "cell_type": "markdown",
   "id": "ed8bedff-d436-400f-ba51-24f1f649c0c6",
   "metadata": {},
   "source": [
    "Średnia aytmentyczna średniej oczekiwanej długości życia."
   ]
  },
  {
   "cell_type": "code",
   "execution_count": 47,
   "id": "2f058b5c-2337-488d-97eb-0784336f89b8",
   "metadata": {},
   "outputs": [
    {
     "data": {
      "text/plain": [
       "73.23764600000001"
      ]
     },
     "execution_count": 47,
     "metadata": {},
     "output_type": "execute_result"
    }
   ],
   "source": [
    "df['Life expectancy at birth'].mean()\n",
    "df.mean()['Life expectancy at birth']"
   ]
  },
  {
   "cell_type": "markdown",
   "id": "875bde46-86bf-4ff5-b206-dd29d30e36c9",
   "metadata": {},
   "source": [
    "Mediana średniej oczekiwanej długości życia."
   ]
  },
  {
   "cell_type": "code",
   "execution_count": 48,
   "id": "670f38aa-e1e5-4552-9a20-678434180425",
   "metadata": {},
   "outputs": [
    {
     "data": {
      "text/plain": [
       "75.764635"
      ]
     },
     "execution_count": 48,
     "metadata": {},
     "output_type": "execute_result"
    }
   ],
   "source": [
    "df['Life expectancy at birth'].median()"
   ]
  },
  {
   "cell_type": "markdown",
   "id": "edbf7044-b240-4180-ae8f-1fb781957c91",
   "metadata": {},
   "source": [
    "Dominanta średniej oczekiwanej długości życia."
   ]
  },
  {
   "cell_type": "code",
   "execution_count": 50,
   "id": "ab2897c2-7f4e-4463-b201-5ded2def7945",
   "metadata": {},
   "outputs": [
    {
     "data": {
      "text/plain": [
       "0     45.55095\n",
       "1     55.02451\n",
       "2     65.46259\n",
       "3     67.54820\n",
       "4     68.84907\n",
       "5     69.80695\n",
       "6     73.88595\n",
       "7     74.16341\n",
       "8     74.22683\n",
       "9     75.26829\n",
       "10    76.26098\n",
       "11    76.27990\n",
       "12    76.84878\n",
       "13    77.57895\n",
       "14    80.12888\n",
       "15    80.57244\n",
       "16    81.40112\n",
       "17    81.40732\n",
       "18    82.19756\n",
       "19    82.29024\n",
       "Name: Life expectancy at birth, dtype: float64"
      ]
     },
     "execution_count": 50,
     "metadata": {},
     "output_type": "execute_result"
    }
   ],
   "source": [
    "df['Life expectancy at birth'].mode()"
   ]
  },
  {
   "cell_type": "markdown",
   "id": "febb9336-0be2-4aab-b6e5-95699e12ecc9",
   "metadata": {},
   "source": [
    "Wariancja średniej oczekiwanej długości życia."
   ]
  },
  {
   "cell_type": "code",
   "execution_count": 58,
   "id": "aba7dc24-e3a7-4641-8bd1-2eb3e0284db3",
   "metadata": {},
   "outputs": [
    {
     "data": {
      "text/plain": [
       "88.19411239750946"
      ]
     },
     "execution_count": 58,
     "metadata": {},
     "output_type": "execute_result"
    }
   ],
   "source": [
    "df['Life expectancy at birth'].var(ddof=1)"
   ]
  },
  {
   "cell_type": "markdown",
   "id": "692f7452-a0c6-4671-88a4-d92301032e85",
   "metadata": {},
   "source": [
    "Odchylenia standardowe średniej oczekiwanej długości życia."
   ]
  },
  {
   "cell_type": "code",
   "execution_count": 60,
   "id": "0a1cdcd3-6391-4753-ba1f-1cc43ac4b3cc",
   "metadata": {},
   "outputs": [
    {
     "data": {
      "text/plain": [
       "9.39117204599668"
      ]
     },
     "execution_count": 60,
     "metadata": {},
     "output_type": "execute_result"
    }
   ],
   "source": [
    "df['Life expectancy at birth'].std(ddof=1)"
   ]
  },
  {
   "cell_type": "markdown",
   "id": "6e0d37a2-2b98-46c0-92a9-0d28eaa56db5",
   "metadata": {},
   "source": [
    "# Obliczanie korelacji pomiędzy współczynnika dzietności i średniej oczekiwanej długości życia."
   ]
  },
  {
   "cell_type": "code",
   "execution_count": 5,
   "id": "c60b9e77-4027-49e6-bfe5-ad3bb38c0edd",
   "metadata": {},
   "outputs": [
    {
     "data": {
      "text/html": [
       "<div>\n",
       "<style scoped>\n",
       "    .dataframe tbody tr th:only-of-type {\n",
       "        vertical-align: middle;\n",
       "    }\n",
       "\n",
       "    .dataframe tbody tr th {\n",
       "        vertical-align: top;\n",
       "    }\n",
       "\n",
       "    .dataframe thead th {\n",
       "        text-align: right;\n",
       "    }\n",
       "</style>\n",
       "<table border=\"1\" class=\"dataframe\">\n",
       "  <thead>\n",
       "    <tr style=\"text-align: right;\">\n",
       "      <th></th>\n",
       "      <th>Country</th>\n",
       "      <th>Fertility rate</th>\n",
       "      <th>Life expectancy at birth</th>\n",
       "    </tr>\n",
       "  </thead>\n",
       "  <tbody>\n",
       "    <tr>\n",
       "      <th>0</th>\n",
       "      <td>x1</td>\n",
       "      <td>1.300</td>\n",
       "      <td>76.84878</td>\n",
       "    </tr>\n",
       "    <tr>\n",
       "      <th>1</th>\n",
       "      <td>x2</td>\n",
       "      <td>1.950</td>\n",
       "      <td>81.40732</td>\n",
       "    </tr>\n",
       "    <tr>\n",
       "      <th>2</th>\n",
       "      <td>x3</td>\n",
       "      <td>2.466</td>\n",
       "      <td>77.57895</td>\n",
       "    </tr>\n",
       "    <tr>\n",
       "      <th>3</th>\n",
       "      <td>x4</td>\n",
       "      <td>1.600</td>\n",
       "      <td>74.16341</td>\n",
       "    </tr>\n",
       "    <tr>\n",
       "      <th>4</th>\n",
       "      <td>x5</td>\n",
       "      <td>2.952</td>\n",
       "      <td>68.84907</td>\n",
       "    </tr>\n",
       "    <tr>\n",
       "      <th>5</th>\n",
       "      <td>x6</td>\n",
       "      <td>1.801</td>\n",
       "      <td>73.88595</td>\n",
       "    </tr>\n",
       "    <tr>\n",
       "      <th>6</th>\n",
       "      <td>x7</td>\n",
       "      <td>1.340</td>\n",
       "      <td>75.26829</td>\n",
       "    </tr>\n",
       "    <tr>\n",
       "      <th>7</th>\n",
       "      <td>x8</td>\n",
       "      <td>1.340</td>\n",
       "      <td>76.26098</td>\n",
       "    </tr>\n",
       "    <tr>\n",
       "      <th>8</th>\n",
       "      <td>x9</td>\n",
       "      <td>1.630</td>\n",
       "      <td>80.57244</td>\n",
       "    </tr>\n",
       "    <tr>\n",
       "      <th>9</th>\n",
       "      <td>x10</td>\n",
       "      <td>2.326</td>\n",
       "      <td>65.46259</td>\n",
       "    </tr>\n",
       "    <tr>\n",
       "      <th>10</th>\n",
       "      <td>x11</td>\n",
       "      <td>2.436</td>\n",
       "      <td>67.54820</td>\n",
       "    </tr>\n",
       "    <tr>\n",
       "      <th>11</th>\n",
       "      <td>x12</td>\n",
       "      <td>6.563</td>\n",
       "      <td>55.02451</td>\n",
       "    </tr>\n",
       "    <tr>\n",
       "      <th>12</th>\n",
       "      <td>x13</td>\n",
       "      <td>1.283</td>\n",
       "      <td>76.27990</td>\n",
       "    </tr>\n",
       "    <tr>\n",
       "      <th>13</th>\n",
       "      <td>x14</td>\n",
       "      <td>1.430</td>\n",
       "      <td>82.29024</td>\n",
       "    </tr>\n",
       "    <tr>\n",
       "      <th>14</th>\n",
       "      <td>x15</td>\n",
       "      <td>1.988</td>\n",
       "      <td>69.80695</td>\n",
       "    </tr>\n",
       "    <tr>\n",
       "      <th>15</th>\n",
       "      <td>x16</td>\n",
       "      <td>1.610</td>\n",
       "      <td>81.40112</td>\n",
       "    </tr>\n",
       "    <tr>\n",
       "      <th>16</th>\n",
       "      <td>x17</td>\n",
       "      <td>1.921</td>\n",
       "      <td>82.19756</td>\n",
       "    </tr>\n",
       "    <tr>\n",
       "      <th>17</th>\n",
       "      <td>x18</td>\n",
       "      <td>2.400</td>\n",
       "      <td>74.22683</td>\n",
       "    </tr>\n",
       "    <tr>\n",
       "      <th>18</th>\n",
       "      <td>x19</td>\n",
       "      <td>1.495</td>\n",
       "      <td>80.12888</td>\n",
       "    </tr>\n",
       "    <tr>\n",
       "      <th>19</th>\n",
       "      <td>x20</td>\n",
       "      <td>4.705</td>\n",
       "      <td>45.55095</td>\n",
       "    </tr>\n",
       "  </tbody>\n",
       "</table>\n",
       "</div>"
      ],
      "text/plain": [
       "   Country  Fertility rate  Life expectancy at birth\n",
       "0       x1           1.300                  76.84878\n",
       "1       x2           1.950                  81.40732\n",
       "2       x3           2.466                  77.57895\n",
       "3       x4           1.600                  74.16341\n",
       "4       x5           2.952                  68.84907\n",
       "5       x6           1.801                  73.88595\n",
       "6       x7           1.340                  75.26829\n",
       "7       x8           1.340                  76.26098\n",
       "8       x9           1.630                  80.57244\n",
       "9      x10           2.326                  65.46259\n",
       "10     x11           2.436                  67.54820\n",
       "11     x12           6.563                  55.02451\n",
       "12     x13           1.283                  76.27990\n",
       "13     x14           1.430                  82.29024\n",
       "14     x15           1.988                  69.80695\n",
       "15     x16           1.610                  81.40112\n",
       "16     x17           1.921                  82.19756\n",
       "17     x18           2.400                  74.22683\n",
       "18     x19           1.495                  80.12888\n",
       "19     x20           4.705                  45.55095"
      ]
     },
     "execution_count": 5,
     "metadata": {},
     "output_type": "execute_result"
    }
   ],
   "source": [
    "kf= pd.DataFrame(data, columns=[\"Country\", \"Fertility rate\", \"Life expectancy at birth\"])\n",
    "kf"
   ]
  },
  {
   "cell_type": "code",
   "execution_count": 6,
   "id": "8917d678-3fdd-444f-832c-b335ababbb12",
   "metadata": {},
   "outputs": [
    {
     "data": {
      "text/plain": [
       "2.2268"
      ]
     },
     "execution_count": 6,
     "metadata": {},
     "output_type": "execute_result"
    }
   ],
   "source": [
    "fr_mean = kf['Fertility rate'].mean()\n",
    "fr_mean"
   ]
  },
  {
   "cell_type": "code",
   "execution_count": 7,
   "id": "0a9587f9-7b05-423e-b3b7-d7b425b98582",
   "metadata": {},
   "outputs": [
    {
     "data": {
      "text/plain": [
       "1.861"
      ]
     },
     "execution_count": 7,
     "metadata": {},
     "output_type": "execute_result"
    }
   ],
   "source": [
    "kf['Fertility rate'].median()"
   ]
  },
  {
   "cell_type": "code",
   "execution_count": 42,
   "id": "8187d8a9-1dff-4f9e-bbc8-8fb670c4d5b6",
   "metadata": {},
   "outputs": [
    {
     "data": {
      "text/plain": [
       "73.23764600000001"
      ]
     },
     "execution_count": 42,
     "metadata": {},
     "output_type": "execute_result"
    }
   ],
   "source": [
    "le_mean = kf['Life expectancy at birth'].mean()\n",
    "le_mean"
   ]
  },
  {
   "cell_type": "code",
   "execution_count": 10,
   "id": "ef1be625-46f7-4886-90ed-befc88b77111",
   "metadata": {},
   "outputs": [
    {
     "data": {
      "text/plain": [
       "2.436"
      ]
     },
     "execution_count": 10,
     "metadata": {},
     "output_type": "execute_result"
    }
   ],
   "source": [
    "kf['Fertility rate'][10]"
   ]
  },
  {
   "cell_type": "code",
   "execution_count": 13,
   "id": "7d7c4882-c0a1-475d-8ca5-b8c88ab2a928",
   "metadata": {},
   "outputs": [
    {
     "data": {
      "text/plain": [
       "-0.9267999999999998"
      ]
     },
     "execution_count": 13,
     "metadata": {},
     "output_type": "execute_result"
    }
   ],
   "source": [
    "kf['Fertility rate'][0]-fr_mean"
   ]
  },
  {
   "cell_type": "code",
   "execution_count": 14,
   "id": "2bccb618-896f-4748-9c28-5495ca0d9257",
   "metadata": {},
   "outputs": [
    {
     "data": {
      "text/plain": [
       "3.6111339999999927"
      ]
     },
     "execution_count": 14,
     "metadata": {},
     "output_type": "execute_result"
    }
   ],
   "source": [
    "kf['Life expectancy at birth'][0]-le_mean"
   ]
  },
  {
   "cell_type": "code",
   "execution_count": 16,
   "id": "6ec31516-8dae-43c4-a2eb-9c6219c9e684",
   "metadata": {},
   "outputs": [
    {
     "data": {
      "text/plain": [
       "-3.346798991199993"
      ]
     },
     "execution_count": 16,
     "metadata": {},
     "output_type": "execute_result"
    }
   ],
   "source": [
    "((kf['Fertility rate'][0]-fr_mean)*(kf['Life expectancy at birth'][0]-le_mean))"
   ]
  },
  {
   "cell_type": "code",
   "execution_count": 20,
   "id": "31ddb761-ecf6-48cc-9234-813f6b4f2d4b",
   "metadata": {},
   "outputs": [
    {
     "data": {
      "text/plain": [
       "[-3.346798991199993,\n",
       " -2.2613657631999957,\n",
       " 1.0384399167999998,\n",
       " -0.5802688751999915,\n",
       " -3.182595315200011,\n",
       " -0.2760478431999922,\n",
       " -1.8007750991999827,\n",
       " -2.6810925911999917,\n",
       " -4.377405059199993,\n",
       " -0.771285555200002,\n",
       " -1.190232103200004,\n",
       " -78.97580032320005,\n",
       " -2.8712793251999864,\n",
       " -7.213106899199987,\n",
       " 0.8192502048000024,\n",
       " -5.035230763199994,\n",
       " -2.7399417011999936,\n",
       " 0.17132666879999908,\n",
       " -5.0430050411999865,\n",
       " -68.61317002720004]"
      ]
     },
     "execution_count": 20,
     "metadata": {},
     "output_type": "execute_result"
    }
   ],
   "source": [
    "init = [ ((kf['Fertility rate'][i]-fr_mean)*(kf['Life expectancy at birth'][i]-le_mean)) for i in range(kf['Country'].count())]\n",
    "init"
   ]
  },
  {
   "cell_type": "code",
   "execution_count": 21,
   "id": "d5a53adb-608e-4f45-bc8a-941b9d385f0b",
   "metadata": {},
   "outputs": [
    {
     "data": {
      "text/html": [
       "<div>\n",
       "<style scoped>\n",
       "    .dataframe tbody tr th:only-of-type {\n",
       "        vertical-align: middle;\n",
       "    }\n",
       "\n",
       "    .dataframe tbody tr th {\n",
       "        vertical-align: top;\n",
       "    }\n",
       "\n",
       "    .dataframe thead th {\n",
       "        text-align: right;\n",
       "    }\n",
       "</style>\n",
       "<table border=\"1\" class=\"dataframe\">\n",
       "  <thead>\n",
       "    <tr style=\"text-align: right;\">\n",
       "      <th></th>\n",
       "      <th>Country</th>\n",
       "      <th>Fertility rate</th>\n",
       "      <th>Life expectancy at birth</th>\n",
       "      <th>init</th>\n",
       "    </tr>\n",
       "  </thead>\n",
       "  <tbody>\n",
       "    <tr>\n",
       "      <th>0</th>\n",
       "      <td>x1</td>\n",
       "      <td>1.300</td>\n",
       "      <td>76.84878</td>\n",
       "      <td>-3.346799</td>\n",
       "    </tr>\n",
       "    <tr>\n",
       "      <th>1</th>\n",
       "      <td>x2</td>\n",
       "      <td>1.950</td>\n",
       "      <td>81.40732</td>\n",
       "      <td>-2.261366</td>\n",
       "    </tr>\n",
       "    <tr>\n",
       "      <th>2</th>\n",
       "      <td>x3</td>\n",
       "      <td>2.466</td>\n",
       "      <td>77.57895</td>\n",
       "      <td>1.038440</td>\n",
       "    </tr>\n",
       "    <tr>\n",
       "      <th>3</th>\n",
       "      <td>x4</td>\n",
       "      <td>1.600</td>\n",
       "      <td>74.16341</td>\n",
       "      <td>-0.580269</td>\n",
       "    </tr>\n",
       "    <tr>\n",
       "      <th>4</th>\n",
       "      <td>x5</td>\n",
       "      <td>2.952</td>\n",
       "      <td>68.84907</td>\n",
       "      <td>-3.182595</td>\n",
       "    </tr>\n",
       "    <tr>\n",
       "      <th>5</th>\n",
       "      <td>x6</td>\n",
       "      <td>1.801</td>\n",
       "      <td>73.88595</td>\n",
       "      <td>-0.276048</td>\n",
       "    </tr>\n",
       "    <tr>\n",
       "      <th>6</th>\n",
       "      <td>x7</td>\n",
       "      <td>1.340</td>\n",
       "      <td>75.26829</td>\n",
       "      <td>-1.800775</td>\n",
       "    </tr>\n",
       "    <tr>\n",
       "      <th>7</th>\n",
       "      <td>x8</td>\n",
       "      <td>1.340</td>\n",
       "      <td>76.26098</td>\n",
       "      <td>-2.681093</td>\n",
       "    </tr>\n",
       "    <tr>\n",
       "      <th>8</th>\n",
       "      <td>x9</td>\n",
       "      <td>1.630</td>\n",
       "      <td>80.57244</td>\n",
       "      <td>-4.377405</td>\n",
       "    </tr>\n",
       "    <tr>\n",
       "      <th>9</th>\n",
       "      <td>x10</td>\n",
       "      <td>2.326</td>\n",
       "      <td>65.46259</td>\n",
       "      <td>-0.771286</td>\n",
       "    </tr>\n",
       "    <tr>\n",
       "      <th>10</th>\n",
       "      <td>x11</td>\n",
       "      <td>2.436</td>\n",
       "      <td>67.54820</td>\n",
       "      <td>-1.190232</td>\n",
       "    </tr>\n",
       "    <tr>\n",
       "      <th>11</th>\n",
       "      <td>x12</td>\n",
       "      <td>6.563</td>\n",
       "      <td>55.02451</td>\n",
       "      <td>-78.975800</td>\n",
       "    </tr>\n",
       "    <tr>\n",
       "      <th>12</th>\n",
       "      <td>x13</td>\n",
       "      <td>1.283</td>\n",
       "      <td>76.27990</td>\n",
       "      <td>-2.871279</td>\n",
       "    </tr>\n",
       "    <tr>\n",
       "      <th>13</th>\n",
       "      <td>x14</td>\n",
       "      <td>1.430</td>\n",
       "      <td>82.29024</td>\n",
       "      <td>-7.213107</td>\n",
       "    </tr>\n",
       "    <tr>\n",
       "      <th>14</th>\n",
       "      <td>x15</td>\n",
       "      <td>1.988</td>\n",
       "      <td>69.80695</td>\n",
       "      <td>0.819250</td>\n",
       "    </tr>\n",
       "    <tr>\n",
       "      <th>15</th>\n",
       "      <td>x16</td>\n",
       "      <td>1.610</td>\n",
       "      <td>81.40112</td>\n",
       "      <td>-5.035231</td>\n",
       "    </tr>\n",
       "    <tr>\n",
       "      <th>16</th>\n",
       "      <td>x17</td>\n",
       "      <td>1.921</td>\n",
       "      <td>82.19756</td>\n",
       "      <td>-2.739942</td>\n",
       "    </tr>\n",
       "    <tr>\n",
       "      <th>17</th>\n",
       "      <td>x18</td>\n",
       "      <td>2.400</td>\n",
       "      <td>74.22683</td>\n",
       "      <td>0.171327</td>\n",
       "    </tr>\n",
       "    <tr>\n",
       "      <th>18</th>\n",
       "      <td>x19</td>\n",
       "      <td>1.495</td>\n",
       "      <td>80.12888</td>\n",
       "      <td>-5.043005</td>\n",
       "    </tr>\n",
       "    <tr>\n",
       "      <th>19</th>\n",
       "      <td>x20</td>\n",
       "      <td>4.705</td>\n",
       "      <td>45.55095</td>\n",
       "      <td>-68.613170</td>\n",
       "    </tr>\n",
       "  </tbody>\n",
       "</table>\n",
       "</div>"
      ],
      "text/plain": [
       "   Country  Fertility rate  Life expectancy at birth       init\n",
       "0       x1           1.300                  76.84878  -3.346799\n",
       "1       x2           1.950                  81.40732  -2.261366\n",
       "2       x3           2.466                  77.57895   1.038440\n",
       "3       x4           1.600                  74.16341  -0.580269\n",
       "4       x5           2.952                  68.84907  -3.182595\n",
       "5       x6           1.801                  73.88595  -0.276048\n",
       "6       x7           1.340                  75.26829  -1.800775\n",
       "7       x8           1.340                  76.26098  -2.681093\n",
       "8       x9           1.630                  80.57244  -4.377405\n",
       "9      x10           2.326                  65.46259  -0.771286\n",
       "10     x11           2.436                  67.54820  -1.190232\n",
       "11     x12           6.563                  55.02451 -78.975800\n",
       "12     x13           1.283                  76.27990  -2.871279\n",
       "13     x14           1.430                  82.29024  -7.213107\n",
       "14     x15           1.988                  69.80695   0.819250\n",
       "15     x16           1.610                  81.40112  -5.035231\n",
       "16     x17           1.921                  82.19756  -2.739942\n",
       "17     x18           2.400                  74.22683   0.171327\n",
       "18     x19           1.495                  80.12888  -5.043005\n",
       "19     x20           4.705                  45.55095 -68.613170"
      ]
     },
     "execution_count": 21,
     "metadata": {},
     "output_type": "execute_result"
    }
   ],
   "source": [
    "kf['init'] = init\n",
    "kf"
   ]
  },
  {
   "cell_type": "code",
   "execution_count": 26,
   "id": "b3fa351d-ce11-41d0-9da5-d7c8350b490c",
   "metadata": {},
   "outputs": [
    {
     "data": {
      "text/plain": [
       "19"
      ]
     },
     "execution_count": 26,
     "metadata": {},
     "output_type": "execute_result"
    }
   ],
   "source": [
    "kf['init'].count()-1"
   ]
  },
  {
   "cell_type": "code",
   "execution_count": 30,
   "id": "b59e5b12-4423-4211-a0e0-89b6f825c010",
   "metadata": {},
   "outputs": [
    {
     "data": {
      "text/plain": [
       "-9.943704446631578"
      ]
     },
     "execution_count": 30,
     "metadata": {},
     "output_type": "execute_result"
    }
   ],
   "source": [
    "Covariance = (kf['init'].sum())/(kf['init'].count()-1)\n",
    "Covariance"
   ]
  },
  {
   "cell_type": "code",
   "execution_count": 32,
   "id": "107dc0f9-b221-4eaf-817e-8eee38131cfa",
   "metadata": {},
   "outputs": [
    {
     "data": {
      "text/plain": [
       "9.39117204599668"
      ]
     },
     "execution_count": 32,
     "metadata": {},
     "output_type": "execute_result"
    }
   ],
   "source": [
    "stdev_le = kf['Life expectancy at birth'].std(ddof=1)\n",
    "stdev_le"
   ]
  },
  {
   "cell_type": "code",
   "execution_count": 33,
   "id": "106d6d48-c686-4661-a7ec-a65727c1b64d",
   "metadata": {},
   "outputs": [
    {
     "data": {
      "text/plain": [
       "1.2904866727834035"
      ]
     },
     "execution_count": 33,
     "metadata": {},
     "output_type": "execute_result"
    }
   ],
   "source": [
    "stdev_fr = kf['Fertility rate'].std(ddof=1)\n",
    "stdev_fr"
   ]
  },
  {
   "cell_type": "code",
   "execution_count": 34,
   "id": "4f8cb016-b143-47ab-b89f-849614f7c4b4",
   "metadata": {},
   "outputs": [
    {
     "data": {
      "text/plain": [
       "-0.8204930122649574"
      ]
     },
     "execution_count": 34,
     "metadata": {},
     "output_type": "execute_result"
    }
   ],
   "source": [
    "correlation = Covariance/(stdev_fr*stdev_le)\n",
    "correlation"
   ]
  },
  {
   "cell_type": "markdown",
   "id": "4ca02822-7fc5-4cbf-8c15-c86f149510f2",
   "metadata": {},
   "source": [
    "# Korelacja wedlug klasyfikacji J. Guilforda."
   ]
  },
  {
   "cell_type": "markdown",
   "id": "2e0fe986-d249-4435-9c9c-b80af4e573de",
   "metadata": {},
   "source": [
    "Zachodzi bardzo wysoka korelacja ujemna. Wzrost wartości współczynnika dzietności przekłada się na spadek wartości średniej oczekiwanej długości życia."
   ]
  },
  {
   "cell_type": "markdown",
   "id": "c8f7605f-a9b6-4793-9dda-dfa103a6d0b4",
   "metadata": {},
   "source": [
    "# Średnia oczekiwana długość życia dla całej populacji."
   ]
  },
  {
   "cell_type": "markdown",
   "id": "5f177faf-6ee5-4c55-8f50-6e22229150c0",
   "metadata": {},
   "source": [
    "Poziom ufności = 95% (0.05) i odchylenie standardowe populacji wynosi 9,09."
   ]
  },
  {
   "cell_type": "code",
   "execution_count": 41,
   "id": "ac0e28a2-42dd-4f15-9233-d095effa3870",
   "metadata": {},
   "outputs": [
    {
     "data": {
      "text/plain": [
       "4.47213595499958"
      ]
     },
     "execution_count": 41,
     "metadata": {},
     "output_type": "execute_result"
    }
   ],
   "source": [
    "import math\n",
    "sqrt_n = math.sqrt(kf['init'].count())\n",
    "sqrt_n"
   ]
  },
  {
   "cell_type": "code",
   "execution_count": 43,
   "id": "f8a9f930-71b0-46f9-aa11-2160b2f92c52",
   "metadata": {},
   "outputs": [
    {
     "data": {
      "text/plain": [
       "73.13601671042265"
      ]
     },
     "execution_count": 43,
     "metadata": {},
     "output_type": "execute_result"
    }
   ],
   "source": [
    "le_mean - 0.05 * (9.09/sqrt_n)"
   ]
  },
  {
   "cell_type": "code",
   "execution_count": 44,
   "id": "76aa8813-1f1b-4d1d-a752-8f16f50d2835",
   "metadata": {},
   "outputs": [
    {
     "data": {
      "text/plain": [
       "73.33927528957737"
      ]
     },
     "execution_count": 44,
     "metadata": {},
     "output_type": "execute_result"
    }
   ],
   "source": [
    "le_mean + 0.05 * (9.09/sqrt_n)"
   ]
  },
  {
   "cell_type": "markdown",
   "id": "e3b38acc-f3d9-4f4f-a77d-3779911c3afc",
   "metadata": {},
   "source": [
    "Średnia oczekiwana długość życia dla całej populacji jest w przedziale:\n",
    "    73,14 - 73,34"
   ]
  },
  {
   "cell_type": "code",
   "execution_count": null,
   "id": "ab04dd43-2d78-4eff-8eec-ead2ab910a86",
   "metadata": {},
   "outputs": [],
   "source": []
  }
 ],
 "metadata": {
  "kernelspec": {
   "display_name": "Python 3 (ipykernel)",
   "language": "python",
   "name": "python3"
  },
  "language_info": {
   "codemirror_mode": {
    "name": "ipython",
    "version": 3
   },
   "file_extension": ".py",
   "mimetype": "text/x-python",
   "name": "python",
   "nbconvert_exporter": "python",
   "pygments_lexer": "ipython3",
   "version": "3.10.2"
  }
 },
 "nbformat": 4,
 "nbformat_minor": 5
}
